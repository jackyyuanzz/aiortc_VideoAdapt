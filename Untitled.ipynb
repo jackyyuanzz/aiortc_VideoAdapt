{
 "cells": [
  {
   "cell_type": "code",
   "execution_count": 1,
   "id": "ba13a5f7",
   "metadata": {},
   "outputs": [],
   "source": [
    "from aiortc import MediaStreamTrack, RTCPeerConnection, RTCSessionDescription\n",
    "from aiortc.contrib.media import MediaBlackhole, MediaPlayer, MediaRecorder, MediaRelay"
   ]
  },
  {
   "cell_type": "code",
   "execution_count": 5,
   "id": "54dffa19",
   "metadata": {},
   "outputs": [
    {
     "data": {
      "text/plain": [
       "[]"
      ]
     },
     "execution_count": 5,
     "metadata": {},
     "output_type": "execute_result"
    }
   ],
   "source": [
    "pc = RTCPeerConnection()\n",
    "\n",
    "pc.getReceivers()"
   ]
  },
  {
   "cell_type": "code",
   "execution_count": null,
   "id": "8bfcb144",
   "metadata": {},
   "outputs": [],
   "source": []
  }
 ],
 "metadata": {
  "kernelspec": {
   "display_name": "Python 3",
   "language": "python",
   "name": "python3"
  },
  "language_info": {
   "codemirror_mode": {
    "name": "ipython",
    "version": 3
   },
   "file_extension": ".py",
   "mimetype": "text/x-python",
   "name": "python",
   "nbconvert_exporter": "python",
   "pygments_lexer": "ipython3",
   "version": "3.8.8"
  }
 },
 "nbformat": 4,
 "nbformat_minor": 5
}
